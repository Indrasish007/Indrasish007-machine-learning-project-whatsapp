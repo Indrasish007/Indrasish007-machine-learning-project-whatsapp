{
 "cells": [
  {
   "cell_type": "markdown",
   "metadata": {},
   "source": [
    "## Import files"
   ]
  },
  {
   "cell_type": "code",
   "execution_count": 29,
   "metadata": {},
   "outputs": [],
   "source": [
    "import pandas as pd\n",
    "import re\n",
    "import urllib"
   ]
  },
  {
   "cell_type": "markdown",
   "metadata": {},
   "source": [
    "## Importing the txt file and split dates and messeges"
   ]
  },
  {
   "cell_type": "code",
   "execution_count": 30,
   "metadata": {},
   "outputs": [],
   "source": [
    "f=open('WhatsApp Chat with EDIFICATION 4 (1).txt','r', encoding= 'utf-8')\n",
    "data=f.read()\n",
    "# print(data)"
   ]
  },
  {
   "cell_type": "code",
   "execution_count": 31,
   "metadata": {},
   "outputs": [],
   "source": [
    "# pattern='\\d{1,2}\\/\\d{1,2}\\/\\d{2,4},\\s \\d{1,2}:\\d{2}\\s-\\s'\n",
    "pattern = r'\\d{1,2}/\\d{1,2}/\\d{2,4},\\s\\d{1,2}:\\d{2}\\s-\\s'\n",
    "message=re.split(pattern,data)[1:]\n",
    "# print(messeges)"
   ]
  },
  {
   "cell_type": "code",
   "execution_count": 32,
   "metadata": {},
   "outputs": [],
   "source": [
    "dates=re.findall(pattern,data)\n",
    "# dates"
   ]
  },
  {
   "cell_type": "markdown",
   "metadata": {},
   "source": [
    "## Creating pandas dataframe"
   ]
  },
  {
   "cell_type": "code",
   "execution_count": 33,
   "metadata": {},
   "outputs": [
    {
     "data": {
      "text/html": [
       "<div>\n",
       "<style scoped>\n",
       "    .dataframe tbody tr th:only-of-type {\n",
       "        vertical-align: middle;\n",
       "    }\n",
       "\n",
       "    .dataframe tbody tr th {\n",
       "        vertical-align: top;\n",
       "    }\n",
       "\n",
       "    .dataframe thead th {\n",
       "        text-align: right;\n",
       "    }\n",
       "</style>\n",
       "<table border=\"1\" class=\"dataframe\">\n",
       "  <thead>\n",
       "    <tr style=\"text-align: right;\">\n",
       "      <th></th>\n",
       "      <th>user_message</th>\n",
       "      <th>date</th>\n",
       "    </tr>\n",
       "  </thead>\n",
       "  <tbody>\n",
       "    <tr>\n",
       "      <th>0</th>\n",
       "      <td>You created group \"EDIFICATION 4\"\\n</td>\n",
       "      <td>2021-07-02 19:26:00</td>\n",
       "    </tr>\n",
       "    <tr>\n",
       "      <th>1</th>\n",
       "      <td>😈~Ken Kaneki~😈: Itna sannata kaiko re\\n</td>\n",
       "      <td>2022-08-28 19:36:00</td>\n",
       "    </tr>\n",
       "    <tr>\n",
       "      <th>2</th>\n",
       "      <td>Dipayan: Match dekho...\\n</td>\n",
       "      <td>2022-08-28 19:44:00</td>\n",
       "    </tr>\n",
       "    <tr>\n",
       "      <th>3</th>\n",
       "      <td>😈~Ken Kaneki~😈: Phone dek6i\\n</td>\n",
       "      <td>2022-08-28 19:52:00</td>\n",
       "    </tr>\n",
       "    <tr>\n",
       "      <th>4</th>\n",
       "      <td>😈~Ken Kaneki~😈: 🙂\\n</td>\n",
       "      <td>2022-08-28 19:52:00</td>\n",
       "    </tr>\n",
       "  </tbody>\n",
       "</table>\n",
       "</div>"
      ],
      "text/plain": [
       "                              user_message                date\n",
       "0      You created group \"EDIFICATION 4\"\\n 2021-07-02 19:26:00\n",
       "1  😈~Ken Kaneki~😈: Itna sannata kaiko re\\n 2022-08-28 19:36:00\n",
       "2                Dipayan: Match dekho...\\n 2022-08-28 19:44:00\n",
       "3            😈~Ken Kaneki~😈: Phone dek6i\\n 2022-08-28 19:52:00\n",
       "4                      😈~Ken Kaneki~😈: 🙂\\n 2022-08-28 19:52:00"
      ]
     },
     "execution_count": 33,
     "metadata": {},
     "output_type": "execute_result"
    }
   ],
   "source": [
    "df=pd.DataFrame({\"user_message\":message,\"message_date\":dates})\n",
    "df[\"message_date\"]=pd.to_datetime(df[\"message_date\"], format='%m/%d/%y, %H:%M - ')\n",
    "df.rename(columns={'message_date' : 'date'},inplace=True)\n",
    "df.head()"
   ]
  },
  {
   "cell_type": "code",
   "execution_count": 34,
   "metadata": {},
   "outputs": [
    {
     "name": "stdout",
     "output_type": "stream",
     "text": [
      "<class 'pandas.core.frame.DataFrame'>\n",
      "RangeIndex: 11333 entries, 0 to 11332\n",
      "Data columns (total 2 columns):\n",
      " #   Column        Non-Null Count  Dtype         \n",
      "---  ------        --------------  -----         \n",
      " 0   user_message  11333 non-null  object        \n",
      " 1   date          11333 non-null  datetime64[ns]\n",
      "dtypes: datetime64[ns](1), object(1)\n",
      "memory usage: 177.2+ KB\n"
     ]
    }
   ],
   "source": [
    "df.info()"
   ]
  },
  {
   "cell_type": "code",
   "execution_count": 35,
   "metadata": {},
   "outputs": [],
   "source": [
    "# df[\"user_message\"]=df[\"user_message\"].astype('string') #own change"
   ]
  },
  {
   "cell_type": "code",
   "execution_count": 36,
   "metadata": {},
   "outputs": [
    {
     "name": "stdout",
     "output_type": "stream",
     "text": [
      "<class 'pandas.core.frame.DataFrame'>\n",
      "RangeIndex: 11333 entries, 0 to 11332\n",
      "Data columns (total 2 columns):\n",
      " #   Column        Non-Null Count  Dtype         \n",
      "---  ------        --------------  -----         \n",
      " 0   user_message  11333 non-null  object        \n",
      " 1   date          11333 non-null  datetime64[ns]\n",
      "dtypes: datetime64[ns](1), object(1)\n",
      "memory usage: 177.2+ KB\n"
     ]
    }
   ],
   "source": [
    "df.info()"
   ]
  },
  {
   "cell_type": "code",
   "execution_count": 37,
   "metadata": {},
   "outputs": [
    {
     "name": "stderr",
     "output_type": "stream",
     "text": [
      "<>:4: SyntaxWarning: invalid escape sequence '\\w'\n",
      "<>:4: SyntaxWarning: invalid escape sequence '\\w'\n",
      "C:\\Users\\indra\\AppData\\Local\\Temp\\ipykernel_2716\\3234378266.py:4: SyntaxWarning: invalid escape sequence '\\w'\n",
      "  entry=re.split('([\\w\\W]+?):\\s',message)\n"
     ]
    }
   ],
   "source": [
    "users=[]\n",
    "messages=[]\n",
    "for message in df['user_message']:\n",
    "    entry=re.split('([\\w\\W]+?):\\s',message)\n",
    "    if entry[1:]:\n",
    "        users.append(entry[1])\n",
    "        messages.append(entry[2])\n",
    "    else:\n",
    "        users.append('group_notification')\n",
    "        messages.append(entry[0])\n",
    "df['users']=users\n",
    "df['message']=messages\n",
    "df.drop(columns=['user_message'],inplace=True)"
   ]
  },
  {
   "cell_type": "code",
   "execution_count": 38,
   "metadata": {},
   "outputs": [
    {
     "data": {
      "text/html": [
       "<div>\n",
       "<style scoped>\n",
       "    .dataframe tbody tr th:only-of-type {\n",
       "        vertical-align: middle;\n",
       "    }\n",
       "\n",
       "    .dataframe tbody tr th {\n",
       "        vertical-align: top;\n",
       "    }\n",
       "\n",
       "    .dataframe thead th {\n",
       "        text-align: right;\n",
       "    }\n",
       "</style>\n",
       "<table border=\"1\" class=\"dataframe\">\n",
       "  <thead>\n",
       "    <tr style=\"text-align: right;\">\n",
       "      <th></th>\n",
       "      <th>date</th>\n",
       "      <th>users</th>\n",
       "      <th>message</th>\n",
       "    </tr>\n",
       "  </thead>\n",
       "  <tbody>\n",
       "    <tr>\n",
       "      <th>0</th>\n",
       "      <td>2021-07-02 19:26:00</td>\n",
       "      <td>group_notification</td>\n",
       "      <td>You created group \"EDIFICATION 4\"\\n</td>\n",
       "    </tr>\n",
       "    <tr>\n",
       "      <th>1</th>\n",
       "      <td>2022-08-28 19:36:00</td>\n",
       "      <td>😈~Ken Kaneki~😈</td>\n",
       "      <td>Itna sannata kaiko re\\n</td>\n",
       "    </tr>\n",
       "    <tr>\n",
       "      <th>2</th>\n",
       "      <td>2022-08-28 19:44:00</td>\n",
       "      <td>Dipayan</td>\n",
       "      <td>Match dekho...\\n</td>\n",
       "    </tr>\n",
       "    <tr>\n",
       "      <th>3</th>\n",
       "      <td>2022-08-28 19:52:00</td>\n",
       "      <td>😈~Ken Kaneki~😈</td>\n",
       "      <td>Phone dek6i\\n</td>\n",
       "    </tr>\n",
       "    <tr>\n",
       "      <th>4</th>\n",
       "      <td>2022-08-28 19:52:00</td>\n",
       "      <td>😈~Ken Kaneki~😈</td>\n",
       "      <td>🙂\\n</td>\n",
       "    </tr>\n",
       "    <tr>\n",
       "      <th>...</th>\n",
       "      <td>...</td>\n",
       "      <td>...</td>\n",
       "      <td>...</td>\n",
       "    </tr>\n",
       "    <tr>\n",
       "      <th>11328</th>\n",
       "      <td>2024-02-22 11:26:00</td>\n",
       "      <td>Tuhin Da Spoken</td>\n",
       "      <td>Khub ekta vlo na\\n</td>\n",
       "    </tr>\n",
       "    <tr>\n",
       "      <th>11329</th>\n",
       "      <td>2024-02-22 11:37:00</td>\n",
       "      <td>Dam 2</td>\n",
       "      <td>Desert khawar por rutii valo lagbeo naa\\n</td>\n",
       "    </tr>\n",
       "    <tr>\n",
       "      <th>11330</th>\n",
       "      <td>2024-02-22 11:37:00</td>\n",
       "      <td>Dam 2</td>\n",
       "      <td>😶‍🌫😶‍🌫\\n</td>\n",
       "    </tr>\n",
       "    <tr>\n",
       "      <th>11331</th>\n",
       "      <td>2024-02-22 11:39:00</td>\n",
       "      <td>Avijit Sir</td>\n",
       "      <td>😁\\n</td>\n",
       "    </tr>\n",
       "    <tr>\n",
       "      <th>11332</th>\n",
       "      <td>2024-02-22 11:40:00</td>\n",
       "      <td>Dam 2</td>\n",
       "      <td>🫣🫣\\n</td>\n",
       "    </tr>\n",
       "  </tbody>\n",
       "</table>\n",
       "<p>11333 rows × 3 columns</p>\n",
       "</div>"
      ],
      "text/plain": [
       "                     date               users  \\\n",
       "0     2021-07-02 19:26:00  group_notification   \n",
       "1     2022-08-28 19:36:00      😈~Ken Kaneki~😈   \n",
       "2     2022-08-28 19:44:00             Dipayan   \n",
       "3     2022-08-28 19:52:00      😈~Ken Kaneki~😈   \n",
       "4     2022-08-28 19:52:00      😈~Ken Kaneki~😈   \n",
       "...                   ...                 ...   \n",
       "11328 2024-02-22 11:26:00     Tuhin Da Spoken   \n",
       "11329 2024-02-22 11:37:00               Dam 2   \n",
       "11330 2024-02-22 11:37:00               Dam 2   \n",
       "11331 2024-02-22 11:39:00          Avijit Sir   \n",
       "11332 2024-02-22 11:40:00               Dam 2   \n",
       "\n",
       "                                         message  \n",
       "0            You created group \"EDIFICATION 4\"\\n  \n",
       "1                        Itna sannata kaiko re\\n  \n",
       "2                               Match dekho...\\n  \n",
       "3                                  Phone dek6i\\n  \n",
       "4                                            🙂\\n  \n",
       "...                                          ...  \n",
       "11328                         Khub ekta vlo na\\n  \n",
       "11329  Desert khawar por rutii valo lagbeo naa\\n  \n",
       "11330                                   😶‍🌫😶‍🌫\\n  \n",
       "11331                                        😁\\n  \n",
       "11332                                       🫣🫣\\n  \n",
       "\n",
       "[11333 rows x 3 columns]"
      ]
     },
     "execution_count": 38,
     "metadata": {},
     "output_type": "execute_result"
    }
   ],
   "source": [
    "df"
   ]
  },
  {
   "cell_type": "markdown",
   "metadata": {},
   "source": [
    "## Extract from dataframe"
   ]
  },
  {
   "cell_type": "code",
   "execution_count": 39,
   "metadata": {},
   "outputs": [],
   "source": [
    "df[\"year\"]=df[\"date\"].dt.year"
   ]
  },
  {
   "cell_type": "code",
   "execution_count": 40,
   "metadata": {},
   "outputs": [],
   "source": [
    "df[\"month\"]=df[\"date\"].dt.month_name()"
   ]
  },
  {
   "cell_type": "code",
   "execution_count": 41,
   "metadata": {},
   "outputs": [],
   "source": [
    "df[\"day\"]=df[\"date\"].dt.day"
   ]
  },
  {
   "cell_type": "code",
   "execution_count": 42,
   "metadata": {},
   "outputs": [],
   "source": [
    "df[\"hour\"]=df[\"date\"].dt.hour"
   ]
  },
  {
   "cell_type": "code",
   "execution_count": 43,
   "metadata": {},
   "outputs": [],
   "source": [
    "df[\"minute\"]=df[\"date\"].dt.minute"
   ]
  },
  {
   "cell_type": "code",
   "execution_count": 44,
   "metadata": {},
   "outputs": [
    {
     "data": {
      "text/html": [
       "<div>\n",
       "<style scoped>\n",
       "    .dataframe tbody tr th:only-of-type {\n",
       "        vertical-align: middle;\n",
       "    }\n",
       "\n",
       "    .dataframe tbody tr th {\n",
       "        vertical-align: top;\n",
       "    }\n",
       "\n",
       "    .dataframe thead th {\n",
       "        text-align: right;\n",
       "    }\n",
       "</style>\n",
       "<table border=\"1\" class=\"dataframe\">\n",
       "  <thead>\n",
       "    <tr style=\"text-align: right;\">\n",
       "      <th></th>\n",
       "      <th>date</th>\n",
       "      <th>users</th>\n",
       "      <th>message</th>\n",
       "      <th>year</th>\n",
       "      <th>month</th>\n",
       "      <th>day</th>\n",
       "      <th>hour</th>\n",
       "      <th>minute</th>\n",
       "    </tr>\n",
       "  </thead>\n",
       "  <tbody>\n",
       "    <tr>\n",
       "      <th>0</th>\n",
       "      <td>2021-07-02 19:26:00</td>\n",
       "      <td>group_notification</td>\n",
       "      <td>You created group \"EDIFICATION 4\"\\n</td>\n",
       "      <td>2021</td>\n",
       "      <td>July</td>\n",
       "      <td>2</td>\n",
       "      <td>19</td>\n",
       "      <td>26</td>\n",
       "    </tr>\n",
       "    <tr>\n",
       "      <th>1</th>\n",
       "      <td>2022-08-28 19:36:00</td>\n",
       "      <td>😈~Ken Kaneki~😈</td>\n",
       "      <td>Itna sannata kaiko re\\n</td>\n",
       "      <td>2022</td>\n",
       "      <td>August</td>\n",
       "      <td>28</td>\n",
       "      <td>19</td>\n",
       "      <td>36</td>\n",
       "    </tr>\n",
       "    <tr>\n",
       "      <th>2</th>\n",
       "      <td>2022-08-28 19:44:00</td>\n",
       "      <td>Dipayan</td>\n",
       "      <td>Match dekho...\\n</td>\n",
       "      <td>2022</td>\n",
       "      <td>August</td>\n",
       "      <td>28</td>\n",
       "      <td>19</td>\n",
       "      <td>44</td>\n",
       "    </tr>\n",
       "    <tr>\n",
       "      <th>3</th>\n",
       "      <td>2022-08-28 19:52:00</td>\n",
       "      <td>😈~Ken Kaneki~😈</td>\n",
       "      <td>Phone dek6i\\n</td>\n",
       "      <td>2022</td>\n",
       "      <td>August</td>\n",
       "      <td>28</td>\n",
       "      <td>19</td>\n",
       "      <td>52</td>\n",
       "    </tr>\n",
       "    <tr>\n",
       "      <th>4</th>\n",
       "      <td>2022-08-28 19:52:00</td>\n",
       "      <td>😈~Ken Kaneki~😈</td>\n",
       "      <td>🙂\\n</td>\n",
       "      <td>2022</td>\n",
       "      <td>August</td>\n",
       "      <td>28</td>\n",
       "      <td>19</td>\n",
       "      <td>52</td>\n",
       "    </tr>\n",
       "  </tbody>\n",
       "</table>\n",
       "</div>"
      ],
      "text/plain": [
       "                 date               users  \\\n",
       "0 2021-07-02 19:26:00  group_notification   \n",
       "1 2022-08-28 19:36:00      😈~Ken Kaneki~😈   \n",
       "2 2022-08-28 19:44:00             Dipayan   \n",
       "3 2022-08-28 19:52:00      😈~Ken Kaneki~😈   \n",
       "4 2022-08-28 19:52:00      😈~Ken Kaneki~😈   \n",
       "\n",
       "                               message  year   month  day  hour  minute  \n",
       "0  You created group \"EDIFICATION 4\"\\n  2021    July    2    19      26  \n",
       "1              Itna sannata kaiko re\\n  2022  August   28    19      36  \n",
       "2                     Match dekho...\\n  2022  August   28    19      44  \n",
       "3                        Phone dek6i\\n  2022  August   28    19      52  \n",
       "4                                  🙂\\n  2022  August   28    19      52  "
      ]
     },
     "execution_count": 44,
     "metadata": {},
     "output_type": "execute_result"
    }
   ],
   "source": [
    "df.head()"
   ]
  },
  {
   "cell_type": "markdown",
   "metadata": {},
   "source": [
    "## Analysis part"
   ]
  },
  {
   "cell_type": "code",
   "execution_count": 45,
   "metadata": {},
   "outputs": [
    {
     "data": {
      "text/plain": [
       "(45, 8)"
      ]
     },
     "execution_count": 45,
     "metadata": {},
     "output_type": "execute_result"
    }
   ],
   "source": [
    "df[df['users']=='Agradip'].shape"
   ]
  },
  {
   "cell_type": "code",
   "execution_count": 46,
   "metadata": {},
   "outputs": [],
   "source": [
    "words=[]\n",
    "\n",
    "for message in df[\"message\"]:\n",
    "    words.extend(message.split())"
   ]
  },
  {
   "cell_type": "code",
   "execution_count": 47,
   "metadata": {},
   "outputs": [
    {
     "data": {
      "text/plain": [
       "41500"
      ]
     },
     "execution_count": 47,
     "metadata": {},
     "output_type": "execute_result"
    }
   ],
   "source": [
    "len(words)"
   ]
  },
  {
   "cell_type": "code",
   "execution_count": 48,
   "metadata": {},
   "outputs": [],
   "source": [
    "new=df[df['message']==\"<Media omitted>\\n\"]"
   ]
  },
  {
   "cell_type": "code",
   "execution_count": 49,
   "metadata": {},
   "outputs": [
    {
     "data": {
      "text/html": [
       "<div>\n",
       "<style scoped>\n",
       "    .dataframe tbody tr th:only-of-type {\n",
       "        vertical-align: middle;\n",
       "    }\n",
       "\n",
       "    .dataframe tbody tr th {\n",
       "        vertical-align: top;\n",
       "    }\n",
       "\n",
       "    .dataframe thead th {\n",
       "        text-align: right;\n",
       "    }\n",
       "</style>\n",
       "<table border=\"1\" class=\"dataframe\">\n",
       "  <thead>\n",
       "    <tr style=\"text-align: right;\">\n",
       "      <th></th>\n",
       "      <th>date</th>\n",
       "      <th>users</th>\n",
       "      <th>message</th>\n",
       "      <th>year</th>\n",
       "      <th>month</th>\n",
       "      <th>day</th>\n",
       "      <th>hour</th>\n",
       "      <th>minute</th>\n",
       "    </tr>\n",
       "  </thead>\n",
       "  <tbody>\n",
       "    <tr>\n",
       "      <th>127</th>\n",
       "      <td>2022-08-29 11:04:00</td>\n",
       "      <td>Agradip</td>\n",
       "      <td>&lt;Media omitted&gt;\\n</td>\n",
       "      <td>2022</td>\n",
       "      <td>August</td>\n",
       "      <td>29</td>\n",
       "      <td>11</td>\n",
       "      <td>4</td>\n",
       "    </tr>\n",
       "    <tr>\n",
       "      <th>128</th>\n",
       "      <td>2022-08-29 14:02:00</td>\n",
       "      <td>Dam 2</td>\n",
       "      <td>&lt;Media omitted&gt;\\n</td>\n",
       "      <td>2022</td>\n",
       "      <td>August</td>\n",
       "      <td>29</td>\n",
       "      <td>14</td>\n",
       "      <td>2</td>\n",
       "    </tr>\n",
       "    <tr>\n",
       "      <th>199</th>\n",
       "      <td>2022-08-31 23:26:00</td>\n",
       "      <td>😈~Ken Kaneki~😈</td>\n",
       "      <td>&lt;Media omitted&gt;\\n</td>\n",
       "      <td>2022</td>\n",
       "      <td>August</td>\n",
       "      <td>31</td>\n",
       "      <td>23</td>\n",
       "      <td>26</td>\n",
       "    </tr>\n",
       "    <tr>\n",
       "      <th>206</th>\n",
       "      <td>2022-09-01 13:53:00</td>\n",
       "      <td>😈~Ken Kaneki~😈</td>\n",
       "      <td>&lt;Media omitted&gt;\\n</td>\n",
       "      <td>2022</td>\n",
       "      <td>September</td>\n",
       "      <td>1</td>\n",
       "      <td>13</td>\n",
       "      <td>53</td>\n",
       "    </tr>\n",
       "    <tr>\n",
       "      <th>209</th>\n",
       "      <td>2022-09-01 15:01:00</td>\n",
       "      <td>😈~Ken Kaneki~😈</td>\n",
       "      <td>&lt;Media omitted&gt;\\n</td>\n",
       "      <td>2022</td>\n",
       "      <td>September</td>\n",
       "      <td>1</td>\n",
       "      <td>15</td>\n",
       "      <td>1</td>\n",
       "    </tr>\n",
       "    <tr>\n",
       "      <th>...</th>\n",
       "      <td>...</td>\n",
       "      <td>...</td>\n",
       "      <td>...</td>\n",
       "      <td>...</td>\n",
       "      <td>...</td>\n",
       "      <td>...</td>\n",
       "      <td>...</td>\n",
       "      <td>...</td>\n",
       "    </tr>\n",
       "    <tr>\n",
       "      <th>11257</th>\n",
       "      <td>2024-01-23 16:59:00</td>\n",
       "      <td>😈~Ken Kaneki~😈</td>\n",
       "      <td>&lt;Media omitted&gt;\\n</td>\n",
       "      <td>2024</td>\n",
       "      <td>January</td>\n",
       "      <td>23</td>\n",
       "      <td>16</td>\n",
       "      <td>59</td>\n",
       "    </tr>\n",
       "    <tr>\n",
       "      <th>11277</th>\n",
       "      <td>2024-01-25 12:13:00</td>\n",
       "      <td>😈~Ken Kaneki~😈</td>\n",
       "      <td>&lt;Media omitted&gt;\\n</td>\n",
       "      <td>2024</td>\n",
       "      <td>January</td>\n",
       "      <td>25</td>\n",
       "      <td>12</td>\n",
       "      <td>13</td>\n",
       "    </tr>\n",
       "    <tr>\n",
       "      <th>11282</th>\n",
       "      <td>2024-02-05 21:00:00</td>\n",
       "      <td>Avijit Sir</td>\n",
       "      <td>&lt;Media omitted&gt;\\n</td>\n",
       "      <td>2024</td>\n",
       "      <td>February</td>\n",
       "      <td>5</td>\n",
       "      <td>21</td>\n",
       "      <td>0</td>\n",
       "    </tr>\n",
       "    <tr>\n",
       "      <th>11289</th>\n",
       "      <td>2024-02-05 21:01:00</td>\n",
       "      <td>😈~Ken Kaneki~😈</td>\n",
       "      <td>&lt;Media omitted&gt;\\n</td>\n",
       "      <td>2024</td>\n",
       "      <td>February</td>\n",
       "      <td>5</td>\n",
       "      <td>21</td>\n",
       "      <td>1</td>\n",
       "    </tr>\n",
       "    <tr>\n",
       "      <th>11292</th>\n",
       "      <td>2024-02-05 21:02:00</td>\n",
       "      <td>😈~Ken Kaneki~😈</td>\n",
       "      <td>&lt;Media omitted&gt;\\n</td>\n",
       "      <td>2024</td>\n",
       "      <td>February</td>\n",
       "      <td>5</td>\n",
       "      <td>21</td>\n",
       "      <td>2</td>\n",
       "    </tr>\n",
       "  </tbody>\n",
       "</table>\n",
       "<p>2009 rows × 8 columns</p>\n",
       "</div>"
      ],
      "text/plain": [
       "                     date           users            message  year      month  \\\n",
       "127   2022-08-29 11:04:00         Agradip  <Media omitted>\\n  2022     August   \n",
       "128   2022-08-29 14:02:00           Dam 2  <Media omitted>\\n  2022     August   \n",
       "199   2022-08-31 23:26:00  😈~Ken Kaneki~😈  <Media omitted>\\n  2022     August   \n",
       "206   2022-09-01 13:53:00  😈~Ken Kaneki~😈  <Media omitted>\\n  2022  September   \n",
       "209   2022-09-01 15:01:00  😈~Ken Kaneki~😈  <Media omitted>\\n  2022  September   \n",
       "...                   ...             ...                ...   ...        ...   \n",
       "11257 2024-01-23 16:59:00  😈~Ken Kaneki~😈  <Media omitted>\\n  2024    January   \n",
       "11277 2024-01-25 12:13:00  😈~Ken Kaneki~😈  <Media omitted>\\n  2024    January   \n",
       "11282 2024-02-05 21:00:00      Avijit Sir  <Media omitted>\\n  2024   February   \n",
       "11289 2024-02-05 21:01:00  😈~Ken Kaneki~😈  <Media omitted>\\n  2024   February   \n",
       "11292 2024-02-05 21:02:00  😈~Ken Kaneki~😈  <Media omitted>\\n  2024   February   \n",
       "\n",
       "       day  hour  minute  \n",
       "127     29    11       4  \n",
       "128     29    14       2  \n",
       "199     31    23      26  \n",
       "206      1    13      53  \n",
       "209      1    15       1  \n",
       "...    ...   ...     ...  \n",
       "11257   23    16      59  \n",
       "11277   25    12      13  \n",
       "11282    5    21       0  \n",
       "11289    5    21       1  \n",
       "11292    5    21       2  \n",
       "\n",
       "[2009 rows x 8 columns]"
      ]
     },
     "execution_count": 49,
     "metadata": {},
     "output_type": "execute_result"
    }
   ],
   "source": [
    "new"
   ]
  }
 ],
 "metadata": {
  "kernelspec": {
   "display_name": "Python 3",
   "language": "python",
   "name": "python3"
  },
  "language_info": {
   "codemirror_mode": {
    "name": "ipython",
    "version": 3
   },
   "file_extension": ".py",
   "mimetype": "text/x-python",
   "name": "python",
   "nbconvert_exporter": "python",
   "pygments_lexer": "ipython3",
   "version": "3.12.2"
  }
 },
 "nbformat": 4,
 "nbformat_minor": 2
}
