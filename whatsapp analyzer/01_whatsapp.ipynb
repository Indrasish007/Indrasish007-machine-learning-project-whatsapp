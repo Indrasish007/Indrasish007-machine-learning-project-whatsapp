{
 "cells": [
  {
   "cell_type": "markdown",
   "metadata": {},
   "source": [
    "## Import files"
   ]
  },
  {
   "cell_type": "code",
   "execution_count": 1,
   "metadata": {},
   "outputs": [],
   "source": [
    "import pandas as pd\n",
    "import re"
   ]
  },
  {
   "cell_type": "markdown",
   "metadata": {},
   "source": [
    "## Importing the txt file and split dates and messeges"
   ]
  },
  {
   "cell_type": "code",
   "execution_count": 2,
   "metadata": {},
   "outputs": [],
   "source": [
    "f=open('WhatsApp Chat with EDIFICATION 4 (1).txt','r', encoding= 'utf-8')\n",
    "data=f.read()\n",
    "# print(data)"
   ]
  },
  {
   "cell_type": "code",
   "execution_count": 3,
   "metadata": {},
   "outputs": [],
   "source": [
    "# pattern='\\d{1,2}\\/\\d{1,2}\\/\\d{2,4},\\s \\d{1,2}:\\d{2}\\s-\\s'\n",
    "pattern = r'\\d{1,2}/\\d{1,2}/\\d{2,4},\\s\\d{1,2}:\\d{2}\\s-\\s'\n",
    "message=re.split(pattern,data)[1:]\n",
    "# print(messeges)"
   ]
  },
  {
   "cell_type": "code",
   "execution_count": 4,
   "metadata": {},
   "outputs": [],
   "source": [
    "dates=re.findall(pattern,data)\n",
    "# dates"
   ]
  },
  {
   "cell_type": "markdown",
   "metadata": {},
   "source": [
    "## Creating pandas dataframe"
   ]
  },
  {
   "cell_type": "code",
   "execution_count": 5,
   "metadata": {},
   "outputs": [
    {
     "data": {
      "text/html": [
       "<div>\n",
       "<style scoped>\n",
       "    .dataframe tbody tr th:only-of-type {\n",
       "        vertical-align: middle;\n",
       "    }\n",
       "\n",
       "    .dataframe tbody tr th {\n",
       "        vertical-align: top;\n",
       "    }\n",
       "\n",
       "    .dataframe thead th {\n",
       "        text-align: right;\n",
       "    }\n",
       "</style>\n",
       "<table border=\"1\" class=\"dataframe\">\n",
       "  <thead>\n",
       "    <tr style=\"text-align: right;\">\n",
       "      <th></th>\n",
       "      <th>user_message</th>\n",
       "      <th>date</th>\n",
       "    </tr>\n",
       "  </thead>\n",
       "  <tbody>\n",
       "    <tr>\n",
       "      <th>0</th>\n",
       "      <td>You created group \"EDIFICATION 4\"\\n</td>\n",
       "      <td>2021-07-02 19:26:00</td>\n",
       "    </tr>\n",
       "    <tr>\n",
       "      <th>1</th>\n",
       "      <td>😈~Ken Kaneki~😈: Itna sannata kaiko re\\n</td>\n",
       "      <td>2022-08-28 19:36:00</td>\n",
       "    </tr>\n",
       "    <tr>\n",
       "      <th>2</th>\n",
       "      <td>Dipayan: Match dekho...\\n</td>\n",
       "      <td>2022-08-28 19:44:00</td>\n",
       "    </tr>\n",
       "    <tr>\n",
       "      <th>3</th>\n",
       "      <td>😈~Ken Kaneki~😈: Phone dek6i\\n</td>\n",
       "      <td>2022-08-28 19:52:00</td>\n",
       "    </tr>\n",
       "    <tr>\n",
       "      <th>4</th>\n",
       "      <td>😈~Ken Kaneki~😈: 🙂\\n</td>\n",
       "      <td>2022-08-28 19:52:00</td>\n",
       "    </tr>\n",
       "  </tbody>\n",
       "</table>\n",
       "</div>"
      ],
      "text/plain": [
       "                              user_message                date\n",
       "0      You created group \"EDIFICATION 4\"\\n 2021-07-02 19:26:00\n",
       "1  😈~Ken Kaneki~😈: Itna sannata kaiko re\\n 2022-08-28 19:36:00\n",
       "2                Dipayan: Match dekho...\\n 2022-08-28 19:44:00\n",
       "3            😈~Ken Kaneki~😈: Phone dek6i\\n 2022-08-28 19:52:00\n",
       "4                      😈~Ken Kaneki~😈: 🙂\\n 2022-08-28 19:52:00"
      ]
     },
     "execution_count": 5,
     "metadata": {},
     "output_type": "execute_result"
    }
   ],
   "source": [
    "df=pd.DataFrame({\"user_message\":message,\"message_date\":dates})\n",
    "df[\"message_date\"]=pd.to_datetime(df[\"message_date\"], format='%m/%d/%y, %H:%M - ')\n",
    "df.rename(columns={'message_date' : 'date'},inplace=True)\n",
    "df.head()"
   ]
  },
  {
   "cell_type": "code",
   "execution_count": 6,
   "metadata": {},
   "outputs": [
    {
     "name": "stdout",
     "output_type": "stream",
     "text": [
      "<class 'pandas.core.frame.DataFrame'>\n",
      "RangeIndex: 11333 entries, 0 to 11332\n",
      "Data columns (total 2 columns):\n",
      " #   Column        Non-Null Count  Dtype         \n",
      "---  ------        --------------  -----         \n",
      " 0   user_message  11333 non-null  object        \n",
      " 1   date          11333 non-null  datetime64[ns]\n",
      "dtypes: datetime64[ns](1), object(1)\n",
      "memory usage: 177.2+ KB\n"
     ]
    }
   ],
   "source": [
    "df.info()"
   ]
  },
  {
   "cell_type": "code",
   "execution_count": 7,
   "metadata": {},
   "outputs": [],
   "source": [
    "# df[\"user_message\"]=df[\"user_message\"].astype('string') #own change"
   ]
  },
  {
   "cell_type": "code",
   "execution_count": 8,
   "metadata": {},
   "outputs": [
    {
     "name": "stdout",
     "output_type": "stream",
     "text": [
      "<class 'pandas.core.frame.DataFrame'>\n",
      "RangeIndex: 11333 entries, 0 to 11332\n",
      "Data columns (total 2 columns):\n",
      " #   Column        Non-Null Count  Dtype         \n",
      "---  ------        --------------  -----         \n",
      " 0   user_message  11333 non-null  object        \n",
      " 1   date          11333 non-null  datetime64[ns]\n",
      "dtypes: datetime64[ns](1), object(1)\n",
      "memory usage: 177.2+ KB\n"
     ]
    }
   ],
   "source": [
    "df.info()"
   ]
  },
  {
   "cell_type": "code",
   "execution_count": 9,
   "metadata": {},
   "outputs": [
    {
     "name": "stderr",
     "output_type": "stream",
     "text": [
      "<>:4: SyntaxWarning: invalid escape sequence '\\w'\n",
      "<>:4: SyntaxWarning: invalid escape sequence '\\w'\n",
      "C:\\Users\\indra\\AppData\\Local\\Temp\\ipykernel_13272\\3234378266.py:4: SyntaxWarning: invalid escape sequence '\\w'\n",
      "  entry=re.split('([\\w\\W]+?):\\s',message)\n"
     ]
    }
   ],
   "source": [
    "users=[]\n",
    "messages=[]\n",
    "for message in df['user_message']:\n",
    "    entry=re.split('([\\w\\W]+?):\\s',message)\n",
    "    if entry[1:]:\n",
    "        users.append(entry[1])\n",
    "        messages.append(entry[2])\n",
    "    else:\n",
    "        users.append('group_notification')\n",
    "        messages.append(entry[0])\n",
    "df['users']=users\n",
    "df['message']=messages\n",
    "df.drop(columns=['user_message'],inplace=True)"
   ]
  },
  {
   "cell_type": "code",
   "execution_count": 10,
   "metadata": {},
   "outputs": [
    {
     "data": {
      "text/html": [
       "<div>\n",
       "<style scoped>\n",
       "    .dataframe tbody tr th:only-of-type {\n",
       "        vertical-align: middle;\n",
       "    }\n",
       "\n",
       "    .dataframe tbody tr th {\n",
       "        vertical-align: top;\n",
       "    }\n",
       "\n",
       "    .dataframe thead th {\n",
       "        text-align: right;\n",
       "    }\n",
       "</style>\n",
       "<table border=\"1\" class=\"dataframe\">\n",
       "  <thead>\n",
       "    <tr style=\"text-align: right;\">\n",
       "      <th></th>\n",
       "      <th>date</th>\n",
       "      <th>users</th>\n",
       "      <th>message</th>\n",
       "    </tr>\n",
       "  </thead>\n",
       "  <tbody>\n",
       "    <tr>\n",
       "      <th>0</th>\n",
       "      <td>2021-07-02 19:26:00</td>\n",
       "      <td>group_notification</td>\n",
       "      <td>You created group \"EDIFICATION 4\"\\n</td>\n",
       "    </tr>\n",
       "    <tr>\n",
       "      <th>1</th>\n",
       "      <td>2022-08-28 19:36:00</td>\n",
       "      <td>😈~Ken Kaneki~😈</td>\n",
       "      <td>Itna sannata kaiko re\\n</td>\n",
       "    </tr>\n",
       "    <tr>\n",
       "      <th>2</th>\n",
       "      <td>2022-08-28 19:44:00</td>\n",
       "      <td>Dipayan</td>\n",
       "      <td>Match dekho...\\n</td>\n",
       "    </tr>\n",
       "    <tr>\n",
       "      <th>3</th>\n",
       "      <td>2022-08-28 19:52:00</td>\n",
       "      <td>😈~Ken Kaneki~😈</td>\n",
       "      <td>Phone dek6i\\n</td>\n",
       "    </tr>\n",
       "    <tr>\n",
       "      <th>4</th>\n",
       "      <td>2022-08-28 19:52:00</td>\n",
       "      <td>😈~Ken Kaneki~😈</td>\n",
       "      <td>🙂\\n</td>\n",
       "    </tr>\n",
       "    <tr>\n",
       "      <th>...</th>\n",
       "      <td>...</td>\n",
       "      <td>...</td>\n",
       "      <td>...</td>\n",
       "    </tr>\n",
       "    <tr>\n",
       "      <th>11328</th>\n",
       "      <td>2024-02-22 11:26:00</td>\n",
       "      <td>Tuhin Da Spoken</td>\n",
       "      <td>Khub ekta vlo na\\n</td>\n",
       "    </tr>\n",
       "    <tr>\n",
       "      <th>11329</th>\n",
       "      <td>2024-02-22 11:37:00</td>\n",
       "      <td>Dam 2</td>\n",
       "      <td>Desert khawar por rutii valo lagbeo naa\\n</td>\n",
       "    </tr>\n",
       "    <tr>\n",
       "      <th>11330</th>\n",
       "      <td>2024-02-22 11:37:00</td>\n",
       "      <td>Dam 2</td>\n",
       "      <td>😶‍🌫😶‍🌫\\n</td>\n",
       "    </tr>\n",
       "    <tr>\n",
       "      <th>11331</th>\n",
       "      <td>2024-02-22 11:39:00</td>\n",
       "      <td>Avijit Sir</td>\n",
       "      <td>😁\\n</td>\n",
       "    </tr>\n",
       "    <tr>\n",
       "      <th>11332</th>\n",
       "      <td>2024-02-22 11:40:00</td>\n",
       "      <td>Dam 2</td>\n",
       "      <td>🫣🫣\\n</td>\n",
       "    </tr>\n",
       "  </tbody>\n",
       "</table>\n",
       "<p>11333 rows × 3 columns</p>\n",
       "</div>"
      ],
      "text/plain": [
       "                     date               users  \\\n",
       "0     2021-07-02 19:26:00  group_notification   \n",
       "1     2022-08-28 19:36:00      😈~Ken Kaneki~😈   \n",
       "2     2022-08-28 19:44:00             Dipayan   \n",
       "3     2022-08-28 19:52:00      😈~Ken Kaneki~😈   \n",
       "4     2022-08-28 19:52:00      😈~Ken Kaneki~😈   \n",
       "...                   ...                 ...   \n",
       "11328 2024-02-22 11:26:00     Tuhin Da Spoken   \n",
       "11329 2024-02-22 11:37:00               Dam 2   \n",
       "11330 2024-02-22 11:37:00               Dam 2   \n",
       "11331 2024-02-22 11:39:00          Avijit Sir   \n",
       "11332 2024-02-22 11:40:00               Dam 2   \n",
       "\n",
       "                                         message  \n",
       "0            You created group \"EDIFICATION 4\"\\n  \n",
       "1                        Itna sannata kaiko re\\n  \n",
       "2                               Match dekho...\\n  \n",
       "3                                  Phone dek6i\\n  \n",
       "4                                            🙂\\n  \n",
       "...                                          ...  \n",
       "11328                         Khub ekta vlo na\\n  \n",
       "11329  Desert khawar por rutii valo lagbeo naa\\n  \n",
       "11330                                   😶‍🌫😶‍🌫\\n  \n",
       "11331                                        😁\\n  \n",
       "11332                                       🫣🫣\\n  \n",
       "\n",
       "[11333 rows x 3 columns]"
      ]
     },
     "execution_count": 10,
     "metadata": {},
     "output_type": "execute_result"
    }
   ],
   "source": [
    "df"
   ]
  },
  {
   "cell_type": "code",
   "execution_count": 11,
   "metadata": {},
   "outputs": [],
   "source": [
    "df[\"year\"]=df[\"date\"].dt.year"
   ]
  },
  {
   "cell_type": "code",
   "execution_count": 12,
   "metadata": {},
   "outputs": [],
   "source": [
    "df[\"month\"]=df[\"date\"].dt.month_name()"
   ]
  },
  {
   "cell_type": "code",
   "execution_count": 13,
   "metadata": {},
   "outputs": [],
   "source": [
    "df[\"day\"]=df[\"date\"].dt.day"
   ]
  },
  {
   "cell_type": "code",
   "execution_count": 14,
   "metadata": {},
   "outputs": [],
   "source": [
    "df[\"hour\"]=df[\"date\"].dt.hour"
   ]
  },
  {
   "cell_type": "code",
   "execution_count": 15,
   "metadata": {},
   "outputs": [],
   "source": [
    "df[\"minute\"]=df[\"date\"].dt.minute"
   ]
  },
  {
   "cell_type": "code",
   "execution_count": 16,
   "metadata": {},
   "outputs": [
    {
     "data": {
      "text/html": [
       "<div>\n",
       "<style scoped>\n",
       "    .dataframe tbody tr th:only-of-type {\n",
       "        vertical-align: middle;\n",
       "    }\n",
       "\n",
       "    .dataframe tbody tr th {\n",
       "        vertical-align: top;\n",
       "    }\n",
       "\n",
       "    .dataframe thead th {\n",
       "        text-align: right;\n",
       "    }\n",
       "</style>\n",
       "<table border=\"1\" class=\"dataframe\">\n",
       "  <thead>\n",
       "    <tr style=\"text-align: right;\">\n",
       "      <th></th>\n",
       "      <th>date</th>\n",
       "      <th>users</th>\n",
       "      <th>message</th>\n",
       "      <th>year</th>\n",
       "      <th>month</th>\n",
       "      <th>day</th>\n",
       "      <th>hour</th>\n",
       "      <th>minute</th>\n",
       "    </tr>\n",
       "  </thead>\n",
       "  <tbody>\n",
       "    <tr>\n",
       "      <th>0</th>\n",
       "      <td>2021-07-02 19:26:00</td>\n",
       "      <td>group_notification</td>\n",
       "      <td>You created group \"EDIFICATION 4\"\\n</td>\n",
       "      <td>2021</td>\n",
       "      <td>July</td>\n",
       "      <td>2</td>\n",
       "      <td>19</td>\n",
       "      <td>26</td>\n",
       "    </tr>\n",
       "    <tr>\n",
       "      <th>1</th>\n",
       "      <td>2022-08-28 19:36:00</td>\n",
       "      <td>😈~Ken Kaneki~😈</td>\n",
       "      <td>Itna sannata kaiko re\\n</td>\n",
       "      <td>2022</td>\n",
       "      <td>August</td>\n",
       "      <td>28</td>\n",
       "      <td>19</td>\n",
       "      <td>36</td>\n",
       "    </tr>\n",
       "    <tr>\n",
       "      <th>2</th>\n",
       "      <td>2022-08-28 19:44:00</td>\n",
       "      <td>Dipayan</td>\n",
       "      <td>Match dekho...\\n</td>\n",
       "      <td>2022</td>\n",
       "      <td>August</td>\n",
       "      <td>28</td>\n",
       "      <td>19</td>\n",
       "      <td>44</td>\n",
       "    </tr>\n",
       "    <tr>\n",
       "      <th>3</th>\n",
       "      <td>2022-08-28 19:52:00</td>\n",
       "      <td>😈~Ken Kaneki~😈</td>\n",
       "      <td>Phone dek6i\\n</td>\n",
       "      <td>2022</td>\n",
       "      <td>August</td>\n",
       "      <td>28</td>\n",
       "      <td>19</td>\n",
       "      <td>52</td>\n",
       "    </tr>\n",
       "    <tr>\n",
       "      <th>4</th>\n",
       "      <td>2022-08-28 19:52:00</td>\n",
       "      <td>😈~Ken Kaneki~😈</td>\n",
       "      <td>🙂\\n</td>\n",
       "      <td>2022</td>\n",
       "      <td>August</td>\n",
       "      <td>28</td>\n",
       "      <td>19</td>\n",
       "      <td>52</td>\n",
       "    </tr>\n",
       "  </tbody>\n",
       "</table>\n",
       "</div>"
      ],
      "text/plain": [
       "                 date               users  \\\n",
       "0 2021-07-02 19:26:00  group_notification   \n",
       "1 2022-08-28 19:36:00      😈~Ken Kaneki~😈   \n",
       "2 2022-08-28 19:44:00             Dipayan   \n",
       "3 2022-08-28 19:52:00      😈~Ken Kaneki~😈   \n",
       "4 2022-08-28 19:52:00      😈~Ken Kaneki~😈   \n",
       "\n",
       "                               message  year   month  day  hour  minute  \n",
       "0  You created group \"EDIFICATION 4\"\\n  2021    July    2    19      26  \n",
       "1              Itna sannata kaiko re\\n  2022  August   28    19      36  \n",
       "2                     Match dekho...\\n  2022  August   28    19      44  \n",
       "3                        Phone dek6i\\n  2022  August   28    19      52  \n",
       "4                                  🙂\\n  2022  August   28    19      52  "
      ]
     },
     "execution_count": 16,
     "metadata": {},
     "output_type": "execute_result"
    }
   ],
   "source": [
    "df.head()"
   ]
  },
  {
   "cell_type": "code",
   "execution_count": 17,
   "metadata": {},
   "outputs": [
    {
     "data": {
      "text/plain": [
       "(45, 8)"
      ]
     },
     "execution_count": 17,
     "metadata": {},
     "output_type": "execute_result"
    }
   ],
   "source": [
    "df[df['users']=='Agradip'].shape"
   ]
  }
 ],
 "metadata": {
  "kernelspec": {
   "display_name": "Python 3",
   "language": "python",
   "name": "python3"
  },
  "language_info": {
   "codemirror_mode": {
    "name": "ipython",
    "version": 3
   },
   "file_extension": ".py",
   "mimetype": "text/x-python",
   "name": "python",
   "nbconvert_exporter": "python",
   "pygments_lexer": "ipython3",
   "version": "3.12.2"
  }
 },
 "nbformat": 4,
 "nbformat_minor": 2
}
